{
 "cells": [
  {
   "cell_type": "code",
   "execution_count": 1,
   "metadata": {},
   "outputs": [
    {
     "data": {
      "text/plain": [
       "<Response [200]>"
      ]
     },
     "execution_count": 1,
     "metadata": {},
     "output_type": "execute_result"
    }
   ],
   "source": [
    "import requests\n",
    "from bs4 import BeautifulSoup\n",
    "import os\n",
    "from dotenv import load_dotenv\n",
    "\n",
    "load_dotenv()\n",
    "\n",
    "linkedin_email = os.environ[\"linkedin_email\"]\n",
    "linkedin_password = os.environ[\"linkedin_password\"]\n",
    "\n",
    "client = requests.Session()\n",
    "\n",
    "HOMEPAGE_URL = \"https://www.linkedin.com\"\n",
    "LOGIN_URL = \"https://www.linkedin.com/uas/login-submit\"\n",
    "\n",
    "html = client.get(HOMEPAGE_URL).content\n",
    "soup = BeautifulSoup(html, \"html.parser\")\n",
    "csrf = soup.find(\"input\", {\"name\": \"loginCsrfParam\"}).get(\"value\")\n",
    "\n",
    "login_information = {\n",
    "    \"session_key\": linkedin_email,\n",
    "    \"session_password\": linkedin_password,\n",
    "    \"loginCsrfParam\": csrf,\n",
    "    \"trk\": \"guest_homepage-basic_sign-in-submit\",\n",
    "}\n",
    "\n",
    "client.post(LOGIN_URL, data=login_information)\n",
    "\n",
    "\n"
   ]
  },
  {
   "cell_type": "code",
   "execution_count": 58,
   "metadata": {},
   "outputs": [],
   "source": [
    "jobs_url_daily = \"https://www.linkedin.com/jobs/search/?currentJobId=3908335123&f_TPR=r86400&f_WT=2&geoId=92000000&keywords=(%22Data%20Engineer%22%20OR%20%22Senior%20Data%20Engineer%22%20OR%20%22AWS%20Data%20Engineer%22)&location=Worldwide&origin=JOB_SEARCH_PAGE_JOB_FILTER&refresh=true\"\n",
    "response = client.get(jobs_url_daily)"
   ]
  },
  {
   "cell_type": "code",
   "execution_count": 39,
   "metadata": {},
   "outputs": [],
   "source": [
    "# output requests as html file\n",
    "with open('output.html', 'wb') as file:  # Use 'wb' mode for binary write\n",
    "    file.write(response.content)"
   ]
  },
  {
   "cell_type": "code",
   "execution_count": 59,
   "metadata": {},
   "outputs": [],
   "source": [
    "from bs4 import BeautifulSoup\n",
    "\n",
    "soup = BeautifulSoup(response.content, 'html.parser')\n",
    "\n",
    "# Find all job listings\n",
    "jobs = soup.find_all('div', class_='base-card')\n",
    "\n",
    "jobs_list = []\n",
    "for job in jobs:\n",
    "    title_element = job.find('h3', class_='base-search-card__title')\n",
    "    title_element = title_element.text.strip() if title_element else \"No Job Title\"\n",
    "    link_element = job.find('a', class_='base-card__full-link')\n",
    "    link_element = link_element.get('href') if link_element else \"No Job Link\"\n",
    "    jobs_list.append({\"title\": title_element, \"link\": link_element})"
   ]
  },
  {
   "cell_type": "code",
   "execution_count": 60,
   "metadata": {},
   "outputs": [
    {
     "data": {
      "text/plain": [
       "59"
      ]
     },
     "execution_count": 60,
     "metadata": {},
     "output_type": "execute_result"
    }
   ],
   "source": [
    "len(jobs_list)"
   ]
  },
  {
   "cell_type": "code",
   "execution_count": 57,
   "metadata": {},
   "outputs": [
    {
     "data": {
      "text/plain": [
       "[{'title': 'Data Engineer (L5)',\n",
       "  'link': 'https://www.linkedin.com/jobs/view/data-engineer-l5-at-netflix-3755880784?position=1&pageNum=0&refId=KHbF76JDvATnizD78hMyUw%3D%3D&trackingId=8HoQjHyO2hh7wMMki%2FhTMw%3D%3D&trk=public_jobs_jserp-result_search-card'},\n",
       " {'title': 'Data Engineer',\n",
       "  'link': 'https://www.linkedin.com/jobs/view/data-engineer-at-fusemachines-3909235575?position=2&pageNum=0&refId=KHbF76JDvATnizD78hMyUw%3D%3D&trackingId=87AzcDxTDpVN1b44zmpBDg%3D%3D&trk=public_jobs_jserp-result_search-card'},\n",
       " {'title': 'Senior Data Engineer - R01536748',\n",
       "  'link': 'https://www.linkedin.com/jobs/view/senior-data-engineer-r01536748-at-brillio-3908122682?position=3&pageNum=0&refId=KHbF76JDvATnizD78hMyUw%3D%3D&trackingId=pQZlxj%2BXejBmzytZ4k4kLw%3D%3D&trk=public_jobs_jserp-result_search-card'},\n",
       " {'title': 'Data Engineer',\n",
       "  'link': 'https://www.linkedin.com/jobs/view/data-engineer-at-calm-3911262601?position=4&pageNum=0&refId=KHbF76JDvATnizD78hMyUw%3D%3D&trackingId=WelEykKdBZ9Zj89TI5v%2FOA%3D%3D&trk=public_jobs_jserp-result_search-card'},\n",
       " {'title': 'Data Engineer',\n",
       "  'link': 'https://uk.linkedin.com/jobs/view/data-engineer-at-unreal-staffing-inc-3912065342?position=5&pageNum=0&refId=KHbF76JDvATnizD78hMyUw%3D%3D&trackingId=zYLZLSyrJORximZE72lPpQ%3D%3D&trk=public_jobs_jserp-result_search-card'},\n",
       " {'title': 'Data Engineer',\n",
       "  'link': 'https://www.linkedin.com/jobs/view/data-engineer-at-oncohealth-3909376341?position=6&pageNum=0&refId=KHbF76JDvATnizD78hMyUw%3D%3D&trackingId=in%2FiWzfi%2BJW4Y9TZG64eZQ%3D%3D&trk=public_jobs_jserp-result_search-card'},\n",
       " {'title': 'Data Engineer',\n",
       "  'link': 'https://www.linkedin.com/jobs/view/data-engineer-at-microsoft-3908305783?position=7&pageNum=0&refId=KHbF76JDvATnizD78hMyUw%3D%3D&trackingId=%2B5eip9YMENaL8iNwX7d7Fg%3D%3D&trk=public_jobs_jserp-result_search-card'},\n",
       " {'title': 'Senior Data Engineer',\n",
       "  'link': 'https://es.linkedin.com/jobs/view/senior-data-engineer-at-resilient-co-3907436673?position=8&pageNum=0&refId=KHbF76JDvATnizD78hMyUw%3D%3D&trackingId=g9xCBgHVvBt6Lh3o9k0XuQ%3D%3D&trk=public_jobs_jserp-result_search-card'},\n",
       " {'title': 'Data Engineer - 100% remoto',\n",
       "  'link': 'https://mx.linkedin.com/jobs/view/data-engineer-100%25-remoto-at-azkait-3911356708?position=9&pageNum=0&refId=KHbF76JDvATnizD78hMyUw%3D%3D&trackingId=Mw%2FRDSVTmvjs1cRDJUY9FQ%3D%3D&trk=public_jobs_jserp-result_search-card'},\n",
       " {'title': 'Azure Data Engineer',\n",
       "  'link': 'https://www.linkedin.com/jobs/view/azure-data-engineer-at-analytica-3908131864?position=10&pageNum=0&refId=KHbF76JDvATnizD78hMyUw%3D%3D&trackingId=bmFbHc%2B5vT5rVgX6idDIPg%3D%3D&trk=public_jobs_jserp-result_search-card'},\n",
       " {'title': 'Data Engineer',\n",
       "  'link': 'https://bg.linkedin.com/jobs/view/data-engineer-at-marketstar-bulgaria-3911361616?position=11&pageNum=0&refId=KHbF76JDvATnizD78hMyUw%3D%3D&trackingId=v8Nx0DHQ35p%2B5MjFfM1h2A%3D%3D&trk=public_jobs_jserp-result_search-card'},\n",
       " {'title': 'Sr. Data Engineer',\n",
       "  'link': 'https://www.linkedin.com/jobs/view/sr-data-engineer-at-ford-motor-company-3910393341?position=12&pageNum=0&refId=KHbF76JDvATnizD78hMyUw%3D%3D&trackingId=UqPlvE4Y4jOLkekl7H9oQA%3D%3D&trk=public_jobs_jserp-result_search-card'},\n",
       " {'title': 'Senior Data Engineer',\n",
       "  'link': 'https://www.linkedin.com/jobs/view/senior-data-engineer-at-calm-3910382948?position=13&pageNum=0&refId=KHbF76JDvATnizD78hMyUw%3D%3D&trackingId=kLmUTRNxGmQqlj048gSUUA%3D%3D&trk=public_jobs_jserp-result_search-card'},\n",
       " {'title': 'Data Engineer - Trading Analytics',\n",
       "  'link': 'https://www.linkedin.com/jobs/view/data-engineer-trading-analytics-at-swish-analytics-3908050435?position=14&pageNum=0&refId=KHbF76JDvATnizD78hMyUw%3D%3D&trackingId=ltKDbNcUbZtGGH6HwEZ11A%3D%3D&trk=public_jobs_jserp-result_search-card'},\n",
       " {'title': 'Data Engineer (m/f/d)',\n",
       "  'link': 'https://de.linkedin.com/jobs/view/data-engineer-m-f-d-at-iso-gruppe-3911200443?position=15&pageNum=0&refId=KHbF76JDvATnizD78hMyUw%3D%3D&trackingId=7TZjty%2FY7mldEGcdq%2FGYsQ%3D%3D&trk=public_jobs_jserp-result_search-card'},\n",
       " {'title': 'Azure Data Engineer',\n",
       "  'link': 'https://uk.linkedin.com/jobs/view/azure-data-engineer-at-qurated-network-3908290118?position=16&pageNum=0&refId=KHbF76JDvATnizD78hMyUw%3D%3D&trackingId=tyAGQesD3tkWgTEy66pXWA%3D%3D&trk=public_jobs_jserp-result_search-card'},\n",
       " {'title': 'Data Engineer',\n",
       "  'link': 'https://uk.linkedin.com/jobs/view/data-engineer-at-embs-technology-3910047226?position=17&pageNum=0&refId=KHbF76JDvATnizD78hMyUw%3D%3D&trackingId=mXDK04ua6phhfS%2BEbhDbLw%3D%3D&trk=public_jobs_jserp-result_search-card'},\n",
       " {'title': 'Senior Data Engineer',\n",
       "  'link': 'https://www.linkedin.com/jobs/view/senior-data-engineer-at-ogx-3903607459?position=18&pageNum=0&refId=KHbF76JDvATnizD78hMyUw%3D%3D&trackingId=UumODuIJW0nfbyn8Njc3zQ%3D%3D&trk=public_jobs_jserp-result_search-card'},\n",
       " {'title': 'Data Engineer',\n",
       "  'link': 'https://ro.linkedin.com/jobs/view/data-engineer-at-raiffeisen-bank-romania-3907763753?position=19&pageNum=0&refId=KHbF76JDvATnizD78hMyUw%3D%3D&trackingId=jCQMU%2F57ZZ7lS67oC2z14w%3D%3D&trk=public_jobs_jserp-result_search-card'},\n",
       " {'title': 'Data Engineer',\n",
       "  'link': 'https://uk.linkedin.com/jobs/view/data-engineer-at-formula-recruitment-3909687770?position=20&pageNum=0&refId=KHbF76JDvATnizD78hMyUw%3D%3D&trackingId=ieLpAtvp7WSYlHcJvMWpLQ%3D%3D&trk=public_jobs_jserp-result_search-card'},\n",
       " {'title': 'Data Engineer Pleno',\n",
       "  'link': 'https://br.linkedin.com/jobs/view/data-engineer-pleno-at-idwall-3905575624?position=21&pageNum=0&refId=KHbF76JDvATnizD78hMyUw%3D%3D&trackingId=AmXOaGczLT3uHPuX7KvLPA%3D%3D&trk=public_jobs_jserp-result_search-card'},\n",
       " {'title': 'Senior Data Engineer',\n",
       "  'link': 'https://pl.linkedin.com/jobs/view/senior-data-engineer-at-crayon-3905507857?position=22&pageNum=0&refId=KHbF76JDvATnizD78hMyUw%3D%3D&trackingId=hosJ3nfE%2B28eKlNo7zoBuA%3D%3D&trk=public_jobs_jserp-result_search-card'},\n",
       " {'title': 'Data Engineer',\n",
       "  'link': 'https://uk.linkedin.com/jobs/view/data-engineer-at-prism-digital-3906145397?position=23&pageNum=0&refId=KHbF76JDvATnizD78hMyUw%3D%3D&trackingId=yHU%2BHReuDLc5ky7Z%2B485yA%3D%3D&trk=public_jobs_jserp-result_search-card'},\n",
       " {'title': 'Data Engineer',\n",
       "  'link': 'https://www.linkedin.com/jobs/view/data-engineer-at-informdata-3907468661?position=24&pageNum=0&refId=KHbF76JDvATnizD78hMyUw%3D%3D&trackingId=ITaYSkKIRpAIrjDBX2xsGA%3D%3D&trk=public_jobs_jserp-result_search-card'},\n",
       " {'title': 'Senior ETL Data Engineer',\n",
       "  'link': 'https://www.linkedin.com/jobs/view/senior-etl-data-engineer-at-aligned-incentives-3907405255?position=25&pageNum=0&refId=KHbF76JDvATnizD78hMyUw%3D%3D&trackingId=ueeW5HbaPpWDkdKo7wNIiQ%3D%3D&trk=public_jobs_jserp-result_search-card'},\n",
       " {'title': 'Data Engineer',\n",
       "  'link': 'https://de.linkedin.com/jobs/view/data-engineer-at-vantage-consulting-3870578278?position=26&pageNum=0&refId=KHbF76JDvATnizD78hMyUw%3D%3D&trackingId=Duo2OOfi6IY0zFeQk28Knw%3D%3D&trk=public_jobs_jserp-result_search-card'},\n",
       " {'title': 'Software Engineer - Data',\n",
       "  'link': 'https://in.linkedin.com/jobs/view/software-engineer-data-at-microsoft-3908305867?position=27&pageNum=0&refId=KHbF76JDvATnizD78hMyUw%3D%3D&trackingId=h4RjYfAxTRSjNN3sJh5C4A%3D%3D&trk=public_jobs_jserp-result_search-card'},\n",
       " {'title': 'Data Engineer',\n",
       "  'link': 'https://ro.linkedin.com/jobs/view/data-engineer-at-renault-group-3908417793?position=28&pageNum=0&refId=KHbF76JDvATnizD78hMyUw%3D%3D&trackingId=2YplG%2FxnEpdIZXgZMh%2BA2w%3D%3D&trk=public_jobs_jserp-result_search-card'},\n",
       " {'title': 'Data Engineer',\n",
       "  'link': 'https://de.linkedin.com/jobs/view/data-engineer-at-vantage-consulting-3814146732?position=29&pageNum=0&refId=KHbF76JDvATnizD78hMyUw%3D%3D&trackingId=xxh5Na%2BU3zpNfZcGfqSeXA%3D%3D&trk=public_jobs_jserp-result_search-card'},\n",
       " {'title': 'Senior Data Engineer',\n",
       "  'link': 'https://uk.linkedin.com/jobs/view/senior-data-engineer-at-eden-smith-group-3908234263?position=30&pageNum=0&refId=KHbF76JDvATnizD78hMyUw%3D%3D&trackingId=QzFoAHwRVIKK1l%2FejWb%2FhQ%3D%3D&trk=public_jobs_jserp-result_search-card'},\n",
       " {'title': 'Senior Data Engineer',\n",
       "  'link': 'https://www.linkedin.com/jobs/view/senior-data-engineer-at-solmax-3905135497?position=31&pageNum=0&refId=KHbF76JDvATnizD78hMyUw%3D%3D&trackingId=LpLo7aEcX1cHZySS7SuwYw%3D%3D&trk=public_jobs_jserp-result_search-card'},\n",
       " {'title': 'ML Data Engineer',\n",
       "  'link': 'https://www.linkedin.com/jobs/view/ml-data-engineer-at-genpact-3909325906?position=32&pageNum=0&refId=KHbF76JDvATnizD78hMyUw%3D%3D&trackingId=sHyktvEAGyckQC4N%2FUw%2BgQ%3D%3D&trk=public_jobs_jserp-result_search-card'},\n",
       " {'title': 'Senior Data Engineer - Advertising',\n",
       "  'link': 'https://www.linkedin.com/jobs/view/senior-data-engineer-advertising-at-discord-3912067766?position=33&pageNum=0&refId=KHbF76JDvATnizD78hMyUw%3D%3D&trackingId=kikHAt9bQ%2B7gRv25YHiI6w%3D%3D&trk=public_jobs_jserp-result_search-card'},\n",
       " {'title': 'Senior Data Engineer',\n",
       "  'link': 'https://www.linkedin.com/jobs/view/senior-data-engineer-at-teema-3907490610?position=34&pageNum=0&refId=KHbF76JDvATnizD78hMyUw%3D%3D&trackingId=lHw9zNdgujIJ0V5jZCCOxA%3D%3D&trk=public_jobs_jserp-result_search-card'},\n",
       " {'title': 'ML Data Engineer',\n",
       "  'link': 'https://www.linkedin.com/jobs/view/ml-data-engineer-at-genpact-3909323803?position=35&pageNum=0&refId=KHbF76JDvATnizD78hMyUw%3D%3D&trackingId=WZTRXO4Gbu0XPSiGw9wbwQ%3D%3D&trk=public_jobs_jserp-result_search-card'},\n",
       " {'title': 'Senior Data Engineer',\n",
       "  'link': 'https://uk.linkedin.com/jobs/view/senior-data-engineer-at-sr2-socially-responsible-recruitment-certified-b-corporation%E2%84%A2-3908258373?position=36&pageNum=0&refId=KHbF76JDvATnizD78hMyUw%3D%3D&trackingId=a2oITnkOV8A9Ns%2BaR2WU%2FA%3D%3D&trk=public_jobs_jserp-result_search-card'},\n",
       " {'title': 'Data Engineer',\n",
       "  'link': 'https://uk.linkedin.com/jobs/view/data-engineer-at-recruit-with-purpose-3907440282?position=37&pageNum=0&refId=KHbF76JDvATnizD78hMyUw%3D%3D&trackingId=LYy1mOljIzir7Q%2Fo2TjAPQ%3D%3D&trk=public_jobs_jserp-result_search-card'},\n",
       " {'title': 'Senior Data Engineer (m/f/d)',\n",
       "  'link': 'https://de.linkedin.com/jobs/view/senior-data-engineer-m-f-d-at-billwerk%2B-3903666336?position=38&pageNum=0&refId=KHbF76JDvATnizD78hMyUw%3D%3D&trackingId=vFbawrE3u%2FnIYQlaKpoDtA%3D%3D&trk=public_jobs_jserp-result_search-card'},\n",
       " {'title': 'Enterprise Data Warehouse Data Engineer',\n",
       "  'link': 'https://www.linkedin.com/jobs/view/enterprise-data-warehouse-data-engineer-at-tapcart-3905127171?position=39&pageNum=0&refId=KHbF76JDvATnizD78hMyUw%3D%3D&trackingId=RIKrkUS4BY12KuOHLSjKjw%3D%3D&trk=public_jobs_jserp-result_search-card'},\n",
       " {'title': 'Data Engineer (Data Bricks)',\n",
       "  'link': 'https://ca.linkedin.com/jobs/view/data-engineer-data-bricks-at-hcltech-3904262104?position=40&pageNum=0&refId=KHbF76JDvATnizD78hMyUw%3D%3D&trackingId=N9AtO1sf3WIo5QcMINvMAg%3D%3D&trk=public_jobs_jserp-result_search-card'},\n",
       " {'title': 'Data Engineer',\n",
       "  'link': 'https://uk.linkedin.com/jobs/view/data-engineer-at-primis-3909121918?position=41&pageNum=0&refId=KHbF76JDvATnizD78hMyUw%3D%3D&trackingId=tDcwYH3Hy%2BcZDpINsi19WQ%3D%3D&trk=public_jobs_jserp-result_search-card'},\n",
       " {'title': 'Data Engineer',\n",
       "  'link': 'https://uk.linkedin.com/jobs/view/data-engineer-at-found-talent-3908253162?position=42&pageNum=0&refId=KHbF76JDvATnizD78hMyUw%3D%3D&trackingId=5yridk6nL7no12NwL3Yv8Q%3D%3D&trk=public_jobs_jserp-result_search-card'},\n",
       " {'title': 'Junior Data Engineer',\n",
       "  'link': 'https://ua.linkedin.com/jobs/view/junior-data-engineer-at-intellias-3907754711?position=43&pageNum=0&refId=KHbF76JDvATnizD78hMyUw%3D%3D&trackingId=YVlX9W0WVldJXP2K0Z61AA%3D%3D&trk=public_jobs_jserp-result_search-card'},\n",
       " {'title': 'Lead Data Engineer',\n",
       "  'link': 'https://www.linkedin.com/jobs/view/lead-data-engineer-at-smartiplace-3908002021?position=44&pageNum=0&refId=KHbF76JDvATnizD78hMyUw%3D%3D&trackingId=U6qsUfxFvZxcgSztoGjgEw%3D%3D&trk=public_jobs_jserp-result_search-card'},\n",
       " {'title': 'Data Engineer',\n",
       "  'link': 'https://uk.linkedin.com/jobs/view/data-engineer-at-peaple-talent-3906600885?position=45&pageNum=0&refId=KHbF76JDvATnizD78hMyUw%3D%3D&trackingId=AxaUJWJw%2BFhPusFjMyqOLg%3D%3D&trk=public_jobs_jserp-result_search-card'},\n",
       " {'title': 'ML Data Engineer',\n",
       "  'link': 'https://www.linkedin.com/jobs/view/ml-data-engineer-at-genpact-3909324888?position=46&pageNum=0&refId=KHbF76JDvATnizD78hMyUw%3D%3D&trackingId=%2FMyPWWpGEgNs3ogmu8fIPA%3D%3D&trk=public_jobs_jserp-result_search-card'},\n",
       " {'title': 'Data Engineer',\n",
       "  'link': 'https://www.linkedin.com/jobs/view/data-engineer-at-datavant-3910530383?position=47&pageNum=0&refId=KHbF76JDvATnizD78hMyUw%3D%3D&trackingId=Z4F2hpxDJ3Ts2g0ozRFOgw%3D%3D&trk=public_jobs_jserp-result_search-card'},\n",
       " {'title': 'Data Engineer',\n",
       "  'link': 'https://de.linkedin.com/jobs/view/data-engineer-at-energize-group-3905514050?position=48&pageNum=0&refId=KHbF76JDvATnizD78hMyUw%3D%3D&trackingId=MYs5M27jqLibknDR75dgwQ%3D%3D&trk=public_jobs_jserp-result_search-card'},\n",
       " {'title': 'Senior Data Engineer',\n",
       "  'link': 'https://uk.linkedin.com/jobs/view/senior-data-engineer-at-narwal-3907934356?position=49&pageNum=0&refId=KHbF76JDvATnizD78hMyUw%3D%3D&trackingId=PJjc52AjNwXIkHCwCrqqsA%3D%3D&trk=public_jobs_jserp-result_search-card'},\n",
       " {'title': 'Data Engineer',\n",
       "  'link': 'https://www.linkedin.com/jobs/view/data-engineer-at-artemis-consultants-3909674509?position=50&pageNum=0&refId=KHbF76JDvATnizD78hMyUw%3D%3D&trackingId=f3c8y0Mmt73Gr%2FTJcWRnbw%3D%3D&trk=public_jobs_jserp-result_search-card'},\n",
       " {'title': 'Data Engineer',\n",
       "  'link': 'https://www.linkedin.com/jobs/view/data-engineer-at-datavant-3910529473?position=51&pageNum=0&refId=KHbF76JDvATnizD78hMyUw%3D%3D&trackingId=EjEdfEswpH2C%2BMwc88Kvhg%3D%3D&trk=public_jobs_jserp-result_search-card'},\n",
       " {'title': 'Data Engineer',\n",
       "  'link': 'https://ro.linkedin.com/jobs/view/data-engineer-at-hcltech-3903685266?position=52&pageNum=0&refId=KHbF76JDvATnizD78hMyUw%3D%3D&trackingId=AAvk6kkqB6tvCb9dTXXucQ%3D%3D&trk=public_jobs_jserp-result_search-card'},\n",
       " {'title': 'Senior Data Engineer',\n",
       "  'link': 'https://mk.linkedin.com/jobs/view/senior-data-engineer-at-crayon-3905510475?position=53&pageNum=0&refId=KHbF76JDvATnizD78hMyUw%3D%3D&trackingId=UhIi0wBIhhxsb0XMYWwzbw%3D%3D&trk=public_jobs_jserp-result_search-card'},\n",
       " {'title': 'Data Engineer',\n",
       "  'link': 'https://pt.linkedin.com/jobs/view/data-engineer-at-next-engineering-3908286206?position=54&pageNum=0&refId=KHbF76JDvATnizD78hMyUw%3D%3D&trackingId=THDrjHIsRVV7s%2F%2FL%2FvaZAw%3D%3D&trk=public_jobs_jserp-result_search-card'},\n",
       " {'title': 'Data Engineer',\n",
       "  'link': 'https://www.linkedin.com/jobs/view/data-engineer-at-jefferson-frank-3906631026?position=55&pageNum=0&refId=KHbF76JDvATnizD78hMyUw%3D%3D&trackingId=LRx3ir%2FuNXoW7MFTyld8lg%3D%3D&trk=public_jobs_jserp-result_search-card'},\n",
       " {'title': 'Data Engineer | 100% remoto',\n",
       "  'link': 'https://es.linkedin.com/jobs/view/data-engineer-100%25-remoto-at-profile-software-services-3870851747?position=56&pageNum=0&refId=KHbF76JDvATnizD78hMyUw%3D%3D&trackingId=h9IyPfWvgCAl6%2BcFFu%2Btog%3D%3D&trk=public_jobs_jserp-result_search-card'},\n",
       " {'title': 'AWS Data Engineer (Remote - Canada)',\n",
       "  'link': 'https://ca.linkedin.com/jobs/view/aws-data-engineer-remote-canada-at-cloudlabs-inc-3907176713?position=57&pageNum=0&refId=KHbF76JDvATnizD78hMyUw%3D%3D&trackingId=THp1C7UGrNw2o68tix%2BD9w%3D%3D&trk=public_jobs_jserp-result_search-card'},\n",
       " {'title': 'Senior Data Engineer',\n",
       "  'link': 'https://pl.linkedin.com/jobs/view/senior-data-engineer-at-qad-3910902469?position=58&pageNum=0&refId=KHbF76JDvATnizD78hMyUw%3D%3D&trackingId=f%2BgfSUmxiwP8SN8nsG%2BfzA%3D%3D&trk=public_jobs_jserp-result_search-card'},\n",
       " {'title': 'Data Engineer',\n",
       "  'link': 'https://www.linkedin.com/jobs/view/data-engineer-at-gigaedge-inc-3909150817?position=59&pageNum=0&refId=KHbF76JDvATnizD78hMyUw%3D%3D&trackingId=CYwENiHKf4%2F9TTMPlvv9%2BQ%3D%3D&trk=public_jobs_jserp-result_search-card'},\n",
       " {'title': 'Analytics Data Engineer',\n",
       "  'link': 'https://www.linkedin.com/jobs/view/analytics-data-engineer-at-softworld-a-kelly-company-3909161930?position=60&pageNum=0&refId=KHbF76JDvATnizD78hMyUw%3D%3D&trackingId=3qGQpLPncDZ2B%2BDluzSWyA%3D%3D&trk=public_jobs_jserp-result_search-card'}]"
      ]
     },
     "execution_count": 57,
     "metadata": {},
     "output_type": "execute_result"
    }
   ],
   "source": [
    "jobs_list"
   ]
  },
  {
   "cell_type": "code",
   "execution_count": null,
   "metadata": {},
   "outputs": [],
   "source": []
  }
 ],
 "metadata": {
  "kernelspec": {
   "display_name": "venv",
   "language": "python",
   "name": "python3"
  },
  "language_info": {
   "codemirror_mode": {
    "name": "ipython",
    "version": 3
   },
   "file_extension": ".py",
   "mimetype": "text/x-python",
   "name": "python",
   "nbconvert_exporter": "python",
   "pygments_lexer": "ipython3",
   "version": "3.10.12"
  }
 },
 "nbformat": 4,
 "nbformat_minor": 2
}
